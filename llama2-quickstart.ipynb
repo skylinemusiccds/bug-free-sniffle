{
 "cells": [
  {
   "cell_type": "markdown",
   "metadata": {},
   "source": [
    "# How to Run Llama 2 Locally with Python (Quickstart)\n",
    "\n",
    "This Jupyter Notebook is part of a Blog Post on https://swharden.com\n",
    "\n",
    "https://swharden.com/blog/2023-07-29-ai-chat-locally-with-python/"
   ]
  },
  {
   "cell_type": "code",
   "execution_count": 2,
   "metadata": {},
   "outputs": [],
   "source": [
    "from llama_cpp import Llama\n",
    "\n",
    "from IPython.display import display, HTML\n",
    "import json\n",
    "import time\n",
    "import pathlib"
   ]
  },
  {
   "cell_type": "markdown",
   "metadata": {},
   "source": [
    "Load two different models so we can compare their responses to the same prompt.\n",
    "\n",
    "Note that `n_ctx` is the maximum number of context tokens, and increasing this value increases the maximum length of the responses."
   ]
  },
  {
   "cell_type": "code",
   "execution_count": 3,
   "metadata": {},
   "outputs": [
    {
     "name": "stderr",
     "output_type": "stream",
     "text": [
      "AVX = 1 | AVX2 = 1 | AVX512 = 0 | AVX512_VBMI = 0 | AVX512_VNNI = 0 | FMA = 1 | NEON = 0 | ARM_FMA = 0 | F16C = 1 | FP16_VA = 0 | WASM_SIMD = 0 | BLAS = 0 | SSE3 = 1 | VSX = 0 | \n",
      "AVX = 1 | AVX2 = 1 | AVX512 = 0 | AVX512_VBMI = 0 | AVX512_VNNI = 0 | FMA = 1 | NEON = 0 | ARM_FMA = 0 | F16C = 1 | FP16_VA = 0 | WASM_SIMD = 0 | BLAS = 0 | SSE3 = 1 | VSX = 0 | \n"
     ]
    }
   ],
   "source": [
    "MODEL_Q8_0 = Llama(\n",
    "    model_path=\"../models/llama-2-7b-chat.ggmlv3.q8_0.bin\",\n",
    "    n_ctx=2048)\n",
    "\n",
    "MODEL_Q2_K = Llama(\n",
    "    model_path=\"../models/llama-2-7b-chat.ggmlv3.q2_K.bin\",\n",
    "    n_ctx=2048)"
   ]
  },
  {
   "cell_type": "code",
   "execution_count": 4,
   "metadata": {},
   "outputs": [],
   "source": [
    "def query(model, question):\n",
    "    model_name = pathlib.Path(model.model_path).name\n",
    "    time_start = time.time()\n",
    "    prompt = f\"Q: {question} A:\"\n",
    "    output = model(prompt=prompt, max_tokens=0) # if max tokens is zero, depends on n_ctx\n",
    "    response = output[\"choices\"][0][\"text\"]\n",
    "    time_elapsed = time.time() - time_start\n",
    "    display(HTML(f'<code>{model_name} response time: {time_elapsed:.02f} sec</code>'))\n",
    "    display(HTML(f'<strong>Question:</strong> {question}'))\n",
    "    display(HTML(f'<strong>Answer:</strong> {response}'))\n",
    "    print(json.dumps(output, indent=2))"
   ]
  },
  {
   "cell_type": "code",
   "execution_count": 5,
   "metadata": {},
   "outputs": [
    {
     "data": {
      "text/html": [
       "<code>llama-2-7b-chat.ggmlv3.q2_K.bin response time: 78.23 sec</code>"
      ],
      "text/plain": [
       "<IPython.core.display.HTML object>"
      ]
     },
     "metadata": {},
     "output_type": "display_data"
    },
    {
     "data": {
      "text/html": [
       "<strong>Question:</strong> Why are Jupyter notebooks difficult to maintain?"
      ],
      "text/plain": [
       "<IPython.core.display.HTML object>"
      ]
     },
     "metadata": {},
     "output_type": "display_data"
    },
    {
     "data": {
      "text/html": [
       "<strong>Answer:</strong>  Jupyter notebooks can be challenging to maintain for several reasons:\n",
       "\n",
       "1. Temporary file system: Jupyter notebooks reside on the user's local disk, which can make them unreliable and difficult to maintain over time.\n",
       "2. Version control issues: As notebooks are updated frequently, it becomes challenging to keep track of changes and manage different versions of a notebook. This can lead to conflicts when working with others on the same project.\n",
       "3. Lack of organization: Since Jupyter notebooks are created manually, it's easy to lose track of which files are included in the notebook and how they relate to each other. This makes it challenging to maintain a well-organized structure for large projects with many components.\n",
       "4. Limited automation: There are limited tools available for automating tasks within Jupyter notebooks, making it more challenging to create reproducible builds or automate the testing process.\n",
       "5. Security concerns: Since Jupyter notebooks contain sensitive data such as user credentials, personal information, and intellectual property, they must be protected against unauthorized access and breaches. This can further complicate maintenance efforts.\n",
       "6. Interactive interfaces: Jupyter notebooks are designed for interactive use, which means that any changes to the code or visualizations will affect the interface in real-time. This can make it challenging to maintain a consistent appearance while working on a project.\n",
       "7. Limited collaboration support: Jupyter notebooks are primarily designed as an individual tool, which limits their ability to accommodate multiple users and their contributions simultaneously. As a result, collaboration becomes more complicated with larger teams.\n",
       "8. Lack of integration with other tools: Jupyter notebooks do not integrate well with other popular development tools like Git or IDEs (Integrated Development Environments). This can make it difficult to manage multiple projects, keep track of changes, and collaborate effectively with team members.\n",
       "9. Limited scalability: As projects grow in size and complexity, Jupyter notebooks may become less efficient and more challenging to maintain. This is particularly true for large-scale data science or machine learning projects that require a lot of processing power and memory.\n",
       "10. Lack of formalized workflows: Since Jupyter notebooks are primarily designed as an interactive environment, they don't provide standardized workflows or processes for managing projects. This can result in a less organized and more challenging maintenance experience for project teams.\n",
       "\n",
       "By understanding these challenges, you can better prepare yourself to manage the complexities of Jupyter notebooks and develop strategies to address them effectively."
      ],
      "text/plain": [
       "<IPython.core.display.HTML object>"
      ]
     },
     "metadata": {},
     "output_type": "display_data"
    },
    {
     "name": "stdout",
     "output_type": "stream",
     "text": [
      "{\n",
      "  \"id\": \"cmpl-1206f5b9-fe09-47bc-9b13-9afa63230e98\",\n",
      "  \"object\": \"text_completion\",\n",
      "  \"created\": 1690691967,\n",
      "  \"model\": \"../models/llama-2-7b-chat.ggmlv3.q2_K.bin\",\n",
      "  \"choices\": [\n",
      "    {\n",
      "      \"text\": \" Jupyter notebooks can be challenging to maintain for several reasons:\\n\\n1. Temporary file system: Jupyter notebooks reside on the user's local disk, which can make them unreliable and difficult to maintain over time.\\n2. Version control issues: As notebooks are updated frequently, it becomes challenging to keep track of changes and manage different versions of a notebook. This can lead to conflicts when working with others on the same project.\\n3. Lack of organization: Since Jupyter notebooks are created manually, it's easy to lose track of which files are included in the notebook and how they relate to each other. This makes it challenging to maintain a well-organized structure for large projects with many components.\\n4. Limited automation: There are limited tools available for automating tasks within Jupyter notebooks, making it more challenging to create reproducible builds or automate the testing process.\\n5. Security concerns: Since Jupyter notebooks contain sensitive data such as user credentials, personal information, and intellectual property, they must be protected against unauthorized access and breaches. This can further complicate maintenance efforts.\\n6. Interactive interfaces: Jupyter notebooks are designed for interactive use, which means that any changes to the code or visualizations will affect the interface in real-time. This can make it challenging to maintain a consistent appearance while working on a project.\\n7. Limited collaboration support: Jupyter notebooks are primarily designed as an individual tool, which limits their ability to accommodate multiple users and their contributions simultaneously. As a result, collaboration becomes more complicated with larger teams.\\n8. Lack of integration with other tools: Jupyter notebooks do not integrate well with other popular development tools like Git or IDEs (Integrated Development Environments). This can make it difficult to manage multiple projects, keep track of changes, and collaborate effectively with team members.\\n9. Limited scalability: As projects grow in size and complexity, Jupyter notebooks may become less efficient and more challenging to maintain. This is particularly true for large-scale data science or machine learning projects that require a lot of processing power and memory.\\n10. Lack of formalized workflows: Since Jupyter notebooks are primarily designed as an interactive environment, they don't provide standardized workflows or processes for managing projects. This can result in a less organized and more challenging maintenance experience for project teams.\\n\\nBy understanding these challenges, you can better prepare yourself to manage the complexities of Jupyter notebooks and develop strategies to address them effectively.\",\n",
      "      \"index\": 0,\n",
      "      \"logprobs\": null,\n",
      "      \"finish_reason\": \"stop\"\n",
      "    }\n",
      "  ],\n",
      "  \"usage\": {\n",
      "    \"prompt_tokens\": 16,\n",
      "    \"completion_tokens\": 562,\n",
      "    \"total_tokens\": 578\n",
      "  }\n",
      "}\n"
     ]
    }
   ],
   "source": [
    "query(MODEL_Q2_K, \"Why are Jupyter notebooks difficult to maintain?\")"
   ]
  },
  {
   "cell_type": "code",
   "execution_count": 6,
   "metadata": {},
   "outputs": [
    {
     "data": {
      "text/html": [
       "<code>llama-2-7b-chat.ggmlv3.q8_0.bin response time: 148.57 sec</code>"
      ],
      "text/plain": [
       "<IPython.core.display.HTML object>"
      ]
     },
     "metadata": {},
     "output_type": "display_data"
    },
    {
     "data": {
      "text/html": [
       "<strong>Question:</strong> Why are Jupyter notebooks difficult to maintain?"
      ],
      "text/plain": [
       "<IPython.core.display.HTML object>"
      ]
     },
     "metadata": {},
     "output_type": "display_data"
    },
    {
     "data": {
      "text/html": [
       "<strong>Answer:</strong>  Jupyter notebooks can be challenging to maintain for several reasons. Here are some of the common issues and their solutions: 1. Version Control: Jupyter notebooks are created using Python code, which is saved as a file on disk. However, tracking changes to the code and collaborating with others can be difficult without proper version control. Solution: Use a version control system like Git or Mercurial to manage your notebooks. 2. Saving Notebooks: Jupyter notebooks are often created in an ad-hoc manner, which can make it hard to save them properly. Solution: Create a naming convention for your notebooks and use a tool like iPython Notebook to create backup copies of your notebooks. 3. Organizing Notebooks: As your collection of Jupyter notebooks grows, it can be challenging to organize them in a meaningful way. Solution: Use a folder structure that reflects the project or topic of each notebook, and consider using a tool like Jupyter Notebook Server to manage multiple notebooks. 4. Sharing Notebooks: Sharing Jupyter notebooks with others can be problematic due to their file format. Solution: Convert your notebooks into other formats like HTML or PDF before sharing them, or use a service like GitHub Pages to host your notebooks online. 5. Reproducibility: Jupyter notebooks are meant to be interactive and flexible, but this can make it hard to reproduce the output of a notebook exactly. Solution: Use tools like IPython magic commands or Jupyter widgets to create reproducible code snippets, and use version control systems to track changes to your code. 6. Debugging: Debugging Jupyter notebooks can be difficult due to their interactive nature. Solution: Use tools like Jupyter Notebook Server's debug mode or the built-in debugger in Jupyter to identify and fix issues. 7. Security: Jupyter notebooks can pose security risks if sensitive data is shared publicly. Solution: Use secure protocols like HTTPS to transmit data, and be careful about what you share in your notebooks. 8. Performance: Running large datasets in Jupyter notebooks can be slow due to the limited resources of the local machine. Solution: Use tools like IPython Interactive Computing Group's (ICG) JupyterLab or Kubernetes to distribute computing tasks and improve performance."
      ],
      "text/plain": [
       "<IPython.core.display.HTML object>"
      ]
     },
     "metadata": {},
     "output_type": "display_data"
    },
    {
     "name": "stdout",
     "output_type": "stream",
     "text": [
      "{\n",
      "  \"id\": \"cmpl-33c4dbf2-4d57-4739-83bd-bbcf2b852e60\",\n",
      "  \"object\": \"text_completion\",\n",
      "  \"created\": 1690692046,\n",
      "  \"model\": \"../models/llama-2-7b-chat.ggmlv3.q8_0.bin\",\n",
      "  \"choices\": [\n",
      "    {\n",
      "      \"text\": \" Jupyter notebooks can be challenging to maintain for several reasons. Here are some of the common issues and their solutions: 1. Version Control: Jupyter notebooks are created using Python code, which is saved as a file on disk. However, tracking changes to the code and collaborating with others can be difficult without proper version control. Solution: Use a version control system like Git or Mercurial to manage your notebooks. 2. Saving Notebooks: Jupyter notebooks are often created in an ad-hoc manner, which can make it hard to save them properly. Solution: Create a naming convention for your notebooks and use a tool like iPython Notebook to create backup copies of your notebooks. 3. Organizing Notebooks: As your collection of Jupyter notebooks grows, it can be challenging to organize them in a meaningful way. Solution: Use a folder structure that reflects the project or topic of each notebook, and consider using a tool like Jupyter Notebook Server to manage multiple notebooks. 4. Sharing Notebooks: Sharing Jupyter notebooks with others can be problematic due to their file format. Solution: Convert your notebooks into other formats like HTML or PDF before sharing them, or use a service like GitHub Pages to host your notebooks online. 5. Reproducibility: Jupyter notebooks are meant to be interactive and flexible, but this can make it hard to reproduce the output of a notebook exactly. Solution: Use tools like IPython magic commands or Jupyter widgets to create reproducible code snippets, and use version control systems to track changes to your code. 6. Debugging: Debugging Jupyter notebooks can be difficult due to their interactive nature. Solution: Use tools like Jupyter Notebook Server's debug mode or the built-in debugger in Jupyter to identify and fix issues. 7. Security: Jupyter notebooks can pose security risks if sensitive data is shared publicly. Solution: Use secure protocols like HTTPS to transmit data, and be careful about what you share in your notebooks. 8. Performance: Running large datasets in Jupyter notebooks can be slow due to the limited resources of the local machine. Solution: Use tools like IPython Interactive Computing Group's (ICG) JupyterLab or Kubernetes to distribute computing tasks and improve performance.\",\n",
      "      \"index\": 0,\n",
      "      \"logprobs\": null,\n",
      "      \"finish_reason\": \"stop\"\n",
      "    }\n",
      "  ],\n",
      "  \"usage\": {\n",
      "    \"prompt_tokens\": 16,\n",
      "    \"completion_tokens\": 521,\n",
      "    \"total_tokens\": 537\n",
      "  }\n",
      "}\n"
     ]
    }
   ],
   "source": [
    "query(MODEL_Q8_0, \"Why are Jupyter notebooks difficult to maintain?\")"
   ]
  }
 ],
 "metadata": {
  "kernelspec": {
   "display_name": ".venv",
   "language": "python",
   "name": "python3"
  },
  "language_info": {
   "codemirror_mode": {
    "name": "ipython",
    "version": 3
   },
   "file_extension": ".py",
   "mimetype": "text/x-python",
   "name": "python",
   "nbconvert_exporter": "python",
   "pygments_lexer": "ipython3",
   "version": "3.11.4"
  },
  "orig_nbformat": 4
 },
 "nbformat": 4,
 "nbformat_minor": 2
}
